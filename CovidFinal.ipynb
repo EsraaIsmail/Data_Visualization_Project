{
 "cells": [
  {
   "cell_type": "code",
   "execution_count": 6,
   "metadata": {},
   "outputs": [
    {
     "ename": "ModuleNotFoundError",
     "evalue": "No module named 'dash_bootstrap_components'",
     "output_type": "error",
     "traceback": [
      "\u001b[1;31m---------------------------------------------------------------------------\u001b[0m",
      "\u001b[1;31mModuleNotFoundError\u001b[0m                       Traceback (most recent call last)",
      "\u001b[1;32m<ipython-input-6-821efcdf15cd>\u001b[0m in \u001b[0;36m<module>\u001b[1;34m\u001b[0m\n\u001b[0;32m      5\u001b[0m \u001b[1;32mimport\u001b[0m \u001b[0mplotly\u001b[0m\u001b[1;33m.\u001b[0m\u001b[0mgraph_objects\u001b[0m \u001b[1;32mas\u001b[0m \u001b[0mgo\u001b[0m\u001b[1;33m\u001b[0m\u001b[1;33m\u001b[0m\u001b[0m\n\u001b[0;32m      6\u001b[0m \u001b[1;32mimport\u001b[0m \u001b[0mdash\u001b[0m\u001b[1;33m\u001b[0m\u001b[1;33m\u001b[0m\u001b[0m\n\u001b[1;32m----> 7\u001b[1;33m \u001b[1;32mimport\u001b[0m \u001b[0mdash_bootstrap_components\u001b[0m \u001b[1;32mas\u001b[0m \u001b[0mdbc\u001b[0m\u001b[1;33m\u001b[0m\u001b[1;33m\u001b[0m\u001b[0m\n\u001b[0m\u001b[0;32m      8\u001b[0m \u001b[1;32mfrom\u001b[0m \u001b[0mdatetime\u001b[0m \u001b[1;32mimport\u001b[0m \u001b[0mdatetime\u001b[0m\u001b[1;33m\u001b[0m\u001b[1;33m\u001b[0m\u001b[0m\n\u001b[0;32m      9\u001b[0m \u001b[1;32mfrom\u001b[0m \u001b[0mdash\u001b[0m \u001b[1;32mimport\u001b[0m \u001b[0mhtml\u001b[0m\u001b[1;33m\u001b[0m\u001b[1;33m\u001b[0m\u001b[0m\n",
      "\u001b[1;31mModuleNotFoundError\u001b[0m: No module named 'dash_bootstrap_components'"
     ]
    }
   ],
   "source": [
    "# Import required libraries\n",
    "import pandas as pd\n",
    "import numpy as np\n",
    "import plotly\n",
    "import plotly.graph_objects as go\n",
    "import dash\n",
    "import dash_bootstrap_components as dbc\n",
    "from datetime import datetime\n",
    "from dash import html\n",
    "from dash import dcc\n",
    "import plotly.express as px\n",
    "import calendar\n",
    "from dash.dependencies import Input,Output,State"
   ]
  },
  {
   "cell_type": "code",
   "execution_count": 7,
   "metadata": {},
   "outputs": [
    {
     "name": "stdout",
     "output_type": "stream",
     "text": [
      "^C\n"
     ]
    }
   ],
   "source": [
    "!pip install dash_bootstrap_components --user"
   ]
  },
  {
   "cell_type": "code",
   "execution_count": null,
   "metadata": {},
   "outputs": [],
   "source": [
    "!pip install dash-bootstrap-components\n"
   ]
  },
  {
   "cell_type": "code",
   "execution_count": null,
   "metadata": {},
   "outputs": [],
   "source": [
    "# Create a dash application\n",
    "app = dash.Dash(__name__)\n",
    "#JupyterDash.infer_jupyter_proxy_config()\n",
    "\n",
    "# REVIEW1: Clear the layout and do not display exception till callback gets executed\n",
    "app.config.suppress_callback_exceptions = True"
   ]
  },
  {
   "cell_type": "code",
   "execution_count": null,
   "metadata": {},
   "outputs": [],
   "source": [
    "#Read Data\n",
    "df = pd.read_csv('df_worldwide.csv')"
   ]
  },
  {
   "cell_type": "code",
   "execution_count": null,
   "metadata": {},
   "outputs": [],
   "source": [
    "df.info\n",
    "df.shape"
   ]
  },
  {
   "cell_type": "code",
   "execution_count": null,
   "metadata": {},
   "outputs": [],
   "source": [
    "df['date'] = pd.to_datetime(df['date'])"
   ]
  },
  {
   "cell_type": "code",
   "execution_count": null,
   "metadata": {},
   "outputs": [],
   "source": [
    "update = df['date'].dt.strftime('%m %d, %Y').iloc[-1]\n"
   ]
  },
  {
   "cell_type": "code",
   "execution_count": null,
   "metadata": {},
   "outputs": [],
   "source": [
    "value = df[df['date'] == df['date'].iloc[-1]]['Confirmed'].sum()\n",
    "delta = df[df['date'] == df['date'].unique()[-2]]['Confirmed'].sum()\n",
    "\n",
    "Deaths_value = df[df['date'] == df['date'].iloc[-1]]['Deaths'].sum()\n",
    "Deaths_delta = df[df['date'] == df['date'].unique()[-2]]['Deaths'].sum()\n",
    "\n",
    "Recovered_value = df[df['date'] == df['date'].iloc[-1]]['Recovered'].sum()\n",
    "Recovered_delta = df[df['date'] == df['date'].unique()[-2]]['Recovered'].sum()\n",
    "\n",
    "Active_value = df[df['date'] == df['date'].iloc[-1]]['Active'].sum()\n",
    "Active_delta = df[df['date'] == df['date'].unique()[-2]]['Active'].sum()\n"
   ]
  },
  {
   "cell_type": "code",
   "execution_count": null,
   "metadata": {},
   "outputs": [],
   "source": [
    "df['month'] = df.date.dt.month\n",
    "MonthsDF = df.groupby(['month']).sum()[['Confirmed','Deaths','Recovered','Active']].reset_index()\n",
    "country = 'China'\n",
    "countrysDF = df.groupby(['Country/Region']).sum()[['Confirmed','Deaths','Recovered','Active']].reset_index()\n",
    "\n",
    "countryDF = countrysDF[countrysDF['Country/Region'] == country] \n",
    "countryValues = countryDF[['Confirmed','Deaths','Recovered','Active']]\n",
    "x = ['Confirmed','Deaths' , 'Recovered','Active']\n",
    "y = countryValues.values[0]\n"
   ]
  },
  {
   "cell_type": "code",
   "execution_count": null,
   "metadata": {},
   "outputs": [],
   "source": [
    "countrysDF.sort_values(by = 'Confirmed' , ascending = False , inplace = True)\n",
    "top5Months =  MonthsDF.sort_values(by = 'Recovered' , ascending = False)\n",
    "collectedDF = df.groupby(['Country/Region','month']).sum().reset_index()\n",
    "collectedDF"
   ]
  },
  {
   "cell_type": "code",
   "execution_count": null,
   "metadata": {},
   "outputs": [],
   "source": [
    "month = 5\n",
    "countryValues = collectedDF[(collectedDF['Country/Region'] == country) & (collectedDF.month == month)]\n",
    "countryValues = countryValues[['Confirmed','Deaths','Recovered','Active']]\n",
    "x = ['Confirmed','Deaths' , 'Recovered','Active']\n",
    "y = countryValues.values[0]\n"
   ]
  },
  {
   "cell_type": "code",
   "execution_count": null,
   "metadata": {},
   "outputs": [],
   "source": [
    "\n",
    "row = html.Div(\n",
    "    [\n",
    "        dbc.Row(\n",
    "            dbc.Col(\n",
    "                html.H1(\" Covid-19 Tracking \"),\n",
    "                style ={'margin' : '1rem','color':'white' ,'textAlign':'center'},\n",
    "                \n",
    "            )\n",
    "        ),\n",
    "        dbc.Row(\n",
    "            [\n",
    "                dbc.Card(\n",
    "    [\n",
    "      dbc.CardHeader(\"Last Updated on\"),\n",
    "        dbc.CardBody(\n",
    "            [\n",
    "                html.H4(update),\n",
    "                html.H5('end of day')\n",
    "\n",
    "            ]\n",
    "        )\n",
    "    ],\n",
    "    style={\"width\": \"18rem\", 'margin' : '1rem' , 'text-align': 'center' },\n",
    "),\n",
    "                dbc.Card(\n",
    "    [\n",
    "      dbc.CardHeader(\" Cumlative Confirmed Cases \"),  \n",
    "        dbc.CardBody(\n",
    "            [\n",
    "                    html.Div(dcc.Graph(id='confirmed',\n",
    "                       figure={'data': [{'type': 'indicator',\n",
    "                    'mode': 'number+delta',\n",
    "                    'value': value,\n",
    "                    'delta': {'reference': delta,\n",
    "                              'valueformat': ',g',\n",
    "                              'relative': False,\n",
    "                              'increasing': {'color': 'black'},\n",
    "                              'decreasing': {'color': 'black'},\n",
    "                              'font': {'size': 25}},\n",
    "                    'number': {'valueformat': ',',\n",
    "                              'font': {'size': 40}},\n",
    "                    'domain': {'y': [0, 1], 'x': [0, 1]}}],\n",
    "            'layout': go.Layout(\n",
    "                font=dict(color='blue'),\n",
    "                height=100\n",
    "                )}\n",
    "                      )\n",
    "        ),\n",
    "            ]\n",
    "        )\n",
    "    ],\n",
    "    style={\"width\": \"18rem\" ,'margin' : '1rem'},\n",
    "),\n",
    "                  dbc.Card(\n",
    "    [  \n",
    "        dbc.CardHeader(\" Recovered  \"),\n",
    "        dbc.CardBody(\n",
    "            [\n",
    "                    html.Div(dcc.Graph(id='Recovered',\n",
    "                       figure={'data': [{'type': 'indicator',\n",
    "                    'mode': 'number+delta',\n",
    "                    'value': Recovered_value,\n",
    "                    'delta': {'reference': Recovered_delta,\n",
    "                              'valueformat': ',g',\n",
    "                              'relative': False,\n",
    "                              'increasing': {'color': 'black'},\n",
    "                              'decreasing': {'color': 'black'},\n",
    "                              'font': {'size': 25}},\n",
    "                    'number': {'valueformat': ',',\n",
    "                              'font': {'size': 40}},\n",
    "                    'domain': {'y': [0, 1], 'x': [0, 1]}}],\n",
    "            'layout': go.Layout(\n",
    "                font=dict(color='#33d3ab'),\n",
    "                height=100\n",
    "                )}\n",
    "                      )\n",
    "        ),\n",
    "            ]\n",
    "        )\n",
    "    ],\n",
    "    style={\"width\": \"18rem\",'margin' : '1rem'},\n",
    "),\n",
    "                  dbc.Card(\n",
    "    [\n",
    "        dbc.CardHeader(\" Deaths to Date  \"),\n",
    "        dbc.CardBody(\n",
    "            [\n",
    "                \n",
    "                \n",
    "                    html.Div(dcc.Graph(id='deaths',\n",
    "                       figure={'data': [{'type': 'indicator',\n",
    "                    'mode': 'number+delta',\n",
    "                    'value': Deaths_value,\n",
    "                    'delta': {'reference': Deaths_delta,\n",
    "                              'valueformat': ',g',\n",
    "                              'relative': False,\n",
    "                              'increasing': {'color': 'black'},\n",
    "                              'decreasing': {'color': 'black'},\n",
    "                              'font': {'size': 25}},\n",
    "                    'number': {'valueformat': ',',\n",
    "                              'font': {'size': 40}},\n",
    "                    'domain': {'y': [0, 1], 'x': [0, 1]}}],\n",
    "            'layout': go.Layout(\n",
    "                font=dict(color='red'),\n",
    "                height=100\n",
    "\n",
    "                )}\n",
    "                      )\n",
    "        ),\n",
    "            ]\n",
    "        )\n",
    "    ],\n",
    "    style={\"width\": \"18rem\" ,'margin' : '1rem'},\n",
    ")\n",
    "            ]\n",
    "        )])"
   ]
  },
  {
   "cell_type": "code",
   "execution_count": null,
   "metadata": {},
   "outputs": [],
   "source": [
    "graphs = html.Div(\n",
    "    [\n",
    "        dbc.Row([\n",
    "            dbc.Col(\n",
    "        dcc.Graph( \n",
    "                        id = 'top10CountryGraph',\n",
    "                        figure = px.bar(countrysDF.head(10) , x = 'Country/Region', y = 'Confirmed' , title = 'Top 10 Reported Cases by Country')\n",
    "                    ),style = { 'margin' : '1rem'}),\n",
    "            dbc.Col(\n",
    "        dcc.Graph( \n",
    "                        id = 'MonthsGraph',\n",
    "                        figure = px.line(top5Months , x = 'month', y = ['Confirmed','Deaths','Recovered','Active'],title = 'Monthly Reports From All over the World')\n",
    "                    ),style = { 'margin' : '1rem'})\n",
    "        \n",
    "        ])\n",
    "    ])"
   ]
  },
  {
   "cell_type": "code",
   "execution_count": null,
   "metadata": {},
   "outputs": [],
   "source": [
    "interactiveGraphs = html.Div([\n",
    "    dcc.Markdown('**Choose Country : ** ', style = {'color':'white' ,'font-size' : '40' , 'margin': '1rem'}),\n",
    "\n",
    "    dcc.Dropdown(\n",
    "            id = 'countryDropDown',\n",
    "        options=[\n",
    "            { 'label' : country , 'value' : country } for country in df['Country/Region'].unique()\n",
    "        ],\n",
    "        value='China'\n",
    "    ),\n",
    "    html.Br(),\n",
    "                    dcc.Graph( \n",
    "                        id = 'CountryPermonthGraph',\n",
    "                        figure = px.bar(x = x,y = y, title = 'Country Statistics' , color = x,labels=dict(x=\"Case\", y=\"Number of Cases\"))\n",
    "                    ),\n",
    "    html.Br(),\n",
    "    dcc.Slider(\n",
    "        id = 'monthSlider',\n",
    "        min=min(df.month),\n",
    "        marks={str(i): '{} 2020'.format(calendar.month_abbr[i]) for i in df.month.unique()},\n",
    "        value=min(df.month),\n",
    "        max=max(df.month),\n",
    "        step=None\n",
    "    )\n",
    "])\n"
   ]
  },
  {
   "cell_type": "code",
   "execution_count": null,
   "metadata": {},
   "outputs": [],
   "source": [
    "app = dash.Dash(external_stylesheets=[dbc.themes.BOOTSTRAP])\n",
    "app.layout = html.Div([row , graphs , interactiveGraphs],style = {'background-color' : '#040045'})\n",
    "@app.callback(\n",
    "    Output('CountryPermonthGraph' , 'figure'),\n",
    "    Input('countryDropDown','value'),\n",
    "    Input('monthSlider' ,'value'))\n",
    "\n",
    "def updateGraph(country , month):\n",
    "    countryValues = collectedDF[(collectedDF['Country/Region'] == country) & (collectedDF.month == month)]\n",
    "    countryValues = countryValues[['Confirmed','Deaths','Recovered','Active']]\n",
    "    x = ['Confirmed','Deaths' , 'Recovered','Active']\n",
    "    y = countryValues.values[0]\n",
    "    return px.bar(x = x,y = y, title = 'Country Statistics per month', color = x,labels=dict(x=\"Case\", y=\"Number of Cases\"))"
   ]
  },
  {
   "cell_type": "code",
   "execution_count": null,
   "metadata": {},
   "outputs": [],
   "source": [
    "if __name__ == '__main__':\n",
    "    app.run_server(debug=False)"
   ]
  },
  {
   "cell_type": "code",
   "execution_count": null,
   "metadata": {
    "scrolled": true
   },
   "outputs": [],
   "source": [
    "# fig = px.scatter_mapbox(df,\n",
    "#                         lat=df.Latitude,\n",
    "#                         lon=df.Longitude,\n",
    "#                         hover_name = df['Country/Region'],\n",
    "#                         hover_data=['Confirmed','Deaths','Recovered' , 'population'],\n",
    "#                         zoom=0)\n",
    "\n",
    "# fig.update_layout(mapbox_style=\"open-street-map\")\n",
    "# fig.update_layout(margin={\"r\":0,\"t\":0,\"l\":0,\"b\":0})\n",
    "# fig.show()"
   ]
  },
  {
   "cell_type": "code",
   "execution_count": null,
   "metadata": {},
   "outputs": [],
   "source": []
  }
 ],
 "metadata": {
  "hide_input": false,
  "kernelspec": {
   "display_name": "Python 3",
   "language": "python",
   "name": "python3"
  },
  "language_info": {
   "codemirror_mode": {
    "name": "ipython",
    "version": 3
   },
   "file_extension": ".py",
   "mimetype": "text/x-python",
   "name": "python",
   "nbconvert_exporter": "python",
   "pygments_lexer": "ipython3",
   "version": "3.8.5"
  }
 },
 "nbformat": 4,
 "nbformat_minor": 4
}
